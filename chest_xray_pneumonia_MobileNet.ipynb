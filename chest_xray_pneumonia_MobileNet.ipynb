{
  "nbformat": 4,
  "nbformat_minor": 0,
  "metadata": {
    "colab": {
      "name": "chest_xray_pneumonia_MobileNet.ipynb",
      "provenance": [],
      "collapsed_sections": []
    },
    "kernelspec": {
      "name": "python3",
      "display_name": "Python 3"
    },
    "accelerator": "GPU"
  },
  "cells": [
    {
      "cell_type": "code",
      "metadata": {
        "id": "ld36KaCeqv7W",
        "colab_type": "code",
        "colab": {
          "base_uri": "https://localhost:8080/",
          "height": 33
        },
        "outputId": "2d1e316e-e864-4f5f-a381-ef7436cc7891"
      },
      "source": [
        "from google.colab import drive\n",
        "drive.mount('/content/drive')"
      ],
      "execution_count": 2,
      "outputs": [
        {
          "output_type": "stream",
          "text": [
            "Drive already mounted at /content/drive; to attempt to forcibly remount, call drive.mount(\"/content/drive\", force_remount=True).\n"
          ],
          "name": "stdout"
        }
      ]
    },
    {
      "cell_type": "code",
      "metadata": {
        "id": "ZeDl1eokqzsu",
        "colab_type": "code",
        "colab": {
          "base_uri": "https://localhost:8080/",
          "height": 33
        },
        "outputId": "fc2792ea-3b4e-4205-d420-0bcc3d420694"
      },
      "source": [
        "import os\n",
        "DATA_DIR = \"/content/drive/My Drive/chest_xray/chest_xray/\"\n",
        "dir_callbacks = \"/content/drive/My Drive/MobileNet/\"\n",
        "os.listdir(DATA_DIR)"
      ],
      "execution_count": 3,
      "outputs": [
        {
          "output_type": "execute_result",
          "data": {
            "text/plain": [
              "['test', 'train']"
            ]
          },
          "metadata": {
            "tags": []
          },
          "execution_count": 3
        }
      ]
    },
    {
      "cell_type": "code",
      "metadata": {
        "id": "otF_7yGxTNGj",
        "colab_type": "code",
        "colab": {}
      },
      "source": [
        "import tensorflow as tf\n",
        "import pandas as pd\n",
        "import numpy as np\n",
        "import os\n",
        "import tensorflow.keras\n",
        "import matplotlib.pyplot as plt\n",
        "from tensorflow.keras.layers import Dense,GlobalAveragePooling2D\n",
        "from tensorflow.keras.applications import MobileNet\n",
        "from tensorflow.keras.preprocessing import image\n",
        "from tensorflow.keras.applications.mobilenet import preprocess_input\n",
        "from tensorflow.keras.preprocessing.image import ImageDataGenerator\n",
        "from tensorflow.keras.models import Model\n",
        "from tensorflow.keras.optimizers import Adam\n",
        "from google.colab import files\n",
        "from tensorflow.keras.layers import Input\n",
        "from tensorflow.keras.callbacks import ModelCheckpoint, ReduceLROnPlateau, EarlyStopping\n",
        "from sklearn.metrics import confusion_matrix, classification_report, accuracy_score\n",
        "from sklearn.metrics import roc_curve, roc_auc_score\n",
        "import itertools\n",
        "from tensorflow.keras import optimizers"
      ],
      "execution_count": 4,
      "outputs": []
    },
    {
      "cell_type": "code",
      "metadata": {
        "id": "iHqYwX45Krho",
        "colab_type": "code",
        "colab": {}
      },
      "source": [
        "LEARNING_RATE =1E-4"
      ],
      "execution_count": 5,
      "outputs": []
    },
    {
      "cell_type": "code",
      "metadata": {
        "id": "G8cIyn0ysFlK",
        "colab_type": "code",
        "colab": {}
      },
      "source": [
        "def Model_MobileNet():\n",
        "      base_model=MobileNet( include_top=False,\tinput_tensor=Input(shape=(400, 400, 3)),alpha=0.75) #imports the mobilenet model and discards the last 1000 neuron layer.\n",
        "      #base_model=MobileNet(weights='imagenet',include_top=False) #imports the mobilenet model and discards the last 1000 neuron layer.\n",
        "      base_model.load_weights(\"/content/drive/My Drive/MobileNet/mobilenet_7_5_224_tf_no_top.h5\")\n",
        "      for layer in base_model.layers:\n",
        "\t        layer.trainable = False\n",
        "      \n",
        "      x=base_model.output\n",
        "      x=GlobalAveragePooling2D()(x)\n",
        "      x=Dense(1024,activation='relu')(x) #we add dense layers so that the model can learn more complex functions and classify for better results.\n",
        "      x=Dense(1024,activation='relu')(x) #dense layer 2\n",
        "      x=Dense(512,activation='relu')(x) #dense layer 3\n",
        "      preds=Dense(2,activation='softmax')(x) #final layer with softmax activation\n",
        "\n",
        "\n",
        "      model=Model(inputs=base_model.input,outputs=preds)\n",
        "      # for layer in model.layers[:20]:\n",
        "      #     layer.trainable=False\n",
        "      # for layer in model.layers[20:]:\n",
        "      #     layer.trainable=True\n",
        "\n",
        "\n",
        "      model.compile(optimizer=optimizers.Adam(lr=LEARNING_RATE),loss='categorical_crossentropy',metrics=['accuracy'])\n",
        "      model.summary()\n",
        "\n",
        "      return model"
      ],
      "execution_count": 6,
      "outputs": []
    },
    {
      "cell_type": "code",
      "metadata": {
        "id": "weRuoh8MscOj",
        "colab_type": "code",
        "colab": {
          "base_uri": "https://localhost:8080/",
          "height": 1000
        },
        "outputId": "a8e46cf4-5393-4628-b0b4-f6355b6454af"
      },
      "source": [
        "Model_MobileNet = Model_MobileNet()"
      ],
      "execution_count": 7,
      "outputs": [
        {
          "output_type": "stream",
          "text": [
            "WARNING:tensorflow:`input_shape` is undefined or non-square, or `rows` is not in [128, 160, 192, 224]. Weights for input shape (224, 224) will be loaded as the default.\n",
            "Model: \"model\"\n",
            "_________________________________________________________________\n",
            "Layer (type)                 Output Shape              Param #   \n",
            "=================================================================\n",
            "input_1 (InputLayer)         [(None, 400, 400, 3)]     0         \n",
            "_________________________________________________________________\n",
            "conv1_pad (ZeroPadding2D)    (None, 401, 401, 3)       0         \n",
            "_________________________________________________________________\n",
            "conv1 (Conv2D)               (None, 200, 200, 24)      648       \n",
            "_________________________________________________________________\n",
            "conv1_bn (BatchNormalization (None, 200, 200, 24)      96        \n",
            "_________________________________________________________________\n",
            "conv1_relu (ReLU)            (None, 200, 200, 24)      0         \n",
            "_________________________________________________________________\n",
            "conv_dw_1 (DepthwiseConv2D)  (None, 200, 200, 24)      216       \n",
            "_________________________________________________________________\n",
            "conv_dw_1_bn (BatchNormaliza (None, 200, 200, 24)      96        \n",
            "_________________________________________________________________\n",
            "conv_dw_1_relu (ReLU)        (None, 200, 200, 24)      0         \n",
            "_________________________________________________________________\n",
            "conv_pw_1 (Conv2D)           (None, 200, 200, 48)      1152      \n",
            "_________________________________________________________________\n",
            "conv_pw_1_bn (BatchNormaliza (None, 200, 200, 48)      192       \n",
            "_________________________________________________________________\n",
            "conv_pw_1_relu (ReLU)        (None, 200, 200, 48)      0         \n",
            "_________________________________________________________________\n",
            "conv_pad_2 (ZeroPadding2D)   (None, 201, 201, 48)      0         \n",
            "_________________________________________________________________\n",
            "conv_dw_2 (DepthwiseConv2D)  (None, 100, 100, 48)      432       \n",
            "_________________________________________________________________\n",
            "conv_dw_2_bn (BatchNormaliza (None, 100, 100, 48)      192       \n",
            "_________________________________________________________________\n",
            "conv_dw_2_relu (ReLU)        (None, 100, 100, 48)      0         \n",
            "_________________________________________________________________\n",
            "conv_pw_2 (Conv2D)           (None, 100, 100, 96)      4608      \n",
            "_________________________________________________________________\n",
            "conv_pw_2_bn (BatchNormaliza (None, 100, 100, 96)      384       \n",
            "_________________________________________________________________\n",
            "conv_pw_2_relu (ReLU)        (None, 100, 100, 96)      0         \n",
            "_________________________________________________________________\n",
            "conv_dw_3 (DepthwiseConv2D)  (None, 100, 100, 96)      864       \n",
            "_________________________________________________________________\n",
            "conv_dw_3_bn (BatchNormaliza (None, 100, 100, 96)      384       \n",
            "_________________________________________________________________\n",
            "conv_dw_3_relu (ReLU)        (None, 100, 100, 96)      0         \n",
            "_________________________________________________________________\n",
            "conv_pw_3 (Conv2D)           (None, 100, 100, 96)      9216      \n",
            "_________________________________________________________________\n",
            "conv_pw_3_bn (BatchNormaliza (None, 100, 100, 96)      384       \n",
            "_________________________________________________________________\n",
            "conv_pw_3_relu (ReLU)        (None, 100, 100, 96)      0         \n",
            "_________________________________________________________________\n",
            "conv_pad_4 (ZeroPadding2D)   (None, 101, 101, 96)      0         \n",
            "_________________________________________________________________\n",
            "conv_dw_4 (DepthwiseConv2D)  (None, 50, 50, 96)        864       \n",
            "_________________________________________________________________\n",
            "conv_dw_4_bn (BatchNormaliza (None, 50, 50, 96)        384       \n",
            "_________________________________________________________________\n",
            "conv_dw_4_relu (ReLU)        (None, 50, 50, 96)        0         \n",
            "_________________________________________________________________\n",
            "conv_pw_4 (Conv2D)           (None, 50, 50, 192)       18432     \n",
            "_________________________________________________________________\n",
            "conv_pw_4_bn (BatchNormaliza (None, 50, 50, 192)       768       \n",
            "_________________________________________________________________\n",
            "conv_pw_4_relu (ReLU)        (None, 50, 50, 192)       0         \n",
            "_________________________________________________________________\n",
            "conv_dw_5 (DepthwiseConv2D)  (None, 50, 50, 192)       1728      \n",
            "_________________________________________________________________\n",
            "conv_dw_5_bn (BatchNormaliza (None, 50, 50, 192)       768       \n",
            "_________________________________________________________________\n",
            "conv_dw_5_relu (ReLU)        (None, 50, 50, 192)       0         \n",
            "_________________________________________________________________\n",
            "conv_pw_5 (Conv2D)           (None, 50, 50, 192)       36864     \n",
            "_________________________________________________________________\n",
            "conv_pw_5_bn (BatchNormaliza (None, 50, 50, 192)       768       \n",
            "_________________________________________________________________\n",
            "conv_pw_5_relu (ReLU)        (None, 50, 50, 192)       0         \n",
            "_________________________________________________________________\n",
            "conv_pad_6 (ZeroPadding2D)   (None, 51, 51, 192)       0         \n",
            "_________________________________________________________________\n",
            "conv_dw_6 (DepthwiseConv2D)  (None, 25, 25, 192)       1728      \n",
            "_________________________________________________________________\n",
            "conv_dw_6_bn (BatchNormaliza (None, 25, 25, 192)       768       \n",
            "_________________________________________________________________\n",
            "conv_dw_6_relu (ReLU)        (None, 25, 25, 192)       0         \n",
            "_________________________________________________________________\n",
            "conv_pw_6 (Conv2D)           (None, 25, 25, 384)       73728     \n",
            "_________________________________________________________________\n",
            "conv_pw_6_bn (BatchNormaliza (None, 25, 25, 384)       1536      \n",
            "_________________________________________________________________\n",
            "conv_pw_6_relu (ReLU)        (None, 25, 25, 384)       0         \n",
            "_________________________________________________________________\n",
            "conv_dw_7 (DepthwiseConv2D)  (None, 25, 25, 384)       3456      \n",
            "_________________________________________________________________\n",
            "conv_dw_7_bn (BatchNormaliza (None, 25, 25, 384)       1536      \n",
            "_________________________________________________________________\n",
            "conv_dw_7_relu (ReLU)        (None, 25, 25, 384)       0         \n",
            "_________________________________________________________________\n",
            "conv_pw_7 (Conv2D)           (None, 25, 25, 384)       147456    \n",
            "_________________________________________________________________\n",
            "conv_pw_7_bn (BatchNormaliza (None, 25, 25, 384)       1536      \n",
            "_________________________________________________________________\n",
            "conv_pw_7_relu (ReLU)        (None, 25, 25, 384)       0         \n",
            "_________________________________________________________________\n",
            "conv_dw_8 (DepthwiseConv2D)  (None, 25, 25, 384)       3456      \n",
            "_________________________________________________________________\n",
            "conv_dw_8_bn (BatchNormaliza (None, 25, 25, 384)       1536      \n",
            "_________________________________________________________________\n",
            "conv_dw_8_relu (ReLU)        (None, 25, 25, 384)       0         \n",
            "_________________________________________________________________\n",
            "conv_pw_8 (Conv2D)           (None, 25, 25, 384)       147456    \n",
            "_________________________________________________________________\n",
            "conv_pw_8_bn (BatchNormaliza (None, 25, 25, 384)       1536      \n",
            "_________________________________________________________________\n",
            "conv_pw_8_relu (ReLU)        (None, 25, 25, 384)       0         \n",
            "_________________________________________________________________\n",
            "conv_dw_9 (DepthwiseConv2D)  (None, 25, 25, 384)       3456      \n",
            "_________________________________________________________________\n",
            "conv_dw_9_bn (BatchNormaliza (None, 25, 25, 384)       1536      \n",
            "_________________________________________________________________\n",
            "conv_dw_9_relu (ReLU)        (None, 25, 25, 384)       0         \n",
            "_________________________________________________________________\n",
            "conv_pw_9 (Conv2D)           (None, 25, 25, 384)       147456    \n",
            "_________________________________________________________________\n",
            "conv_pw_9_bn (BatchNormaliza (None, 25, 25, 384)       1536      \n",
            "_________________________________________________________________\n",
            "conv_pw_9_relu (ReLU)        (None, 25, 25, 384)       0         \n",
            "_________________________________________________________________\n",
            "conv_dw_10 (DepthwiseConv2D) (None, 25, 25, 384)       3456      \n",
            "_________________________________________________________________\n",
            "conv_dw_10_bn (BatchNormaliz (None, 25, 25, 384)       1536      \n",
            "_________________________________________________________________\n",
            "conv_dw_10_relu (ReLU)       (None, 25, 25, 384)       0         \n",
            "_________________________________________________________________\n",
            "conv_pw_10 (Conv2D)          (None, 25, 25, 384)       147456    \n",
            "_________________________________________________________________\n",
            "conv_pw_10_bn (BatchNormaliz (None, 25, 25, 384)       1536      \n",
            "_________________________________________________________________\n",
            "conv_pw_10_relu (ReLU)       (None, 25, 25, 384)       0         \n",
            "_________________________________________________________________\n",
            "conv_dw_11 (DepthwiseConv2D) (None, 25, 25, 384)       3456      \n",
            "_________________________________________________________________\n",
            "conv_dw_11_bn (BatchNormaliz (None, 25, 25, 384)       1536      \n",
            "_________________________________________________________________\n",
            "conv_dw_11_relu (ReLU)       (None, 25, 25, 384)       0         \n",
            "_________________________________________________________________\n",
            "conv_pw_11 (Conv2D)          (None, 25, 25, 384)       147456    \n",
            "_________________________________________________________________\n",
            "conv_pw_11_bn (BatchNormaliz (None, 25, 25, 384)       1536      \n",
            "_________________________________________________________________\n",
            "conv_pw_11_relu (ReLU)       (None, 25, 25, 384)       0         \n",
            "_________________________________________________________________\n",
            "conv_pad_12 (ZeroPadding2D)  (None, 26, 26, 384)       0         \n",
            "_________________________________________________________________\n",
            "conv_dw_12 (DepthwiseConv2D) (None, 12, 12, 384)       3456      \n",
            "_________________________________________________________________\n",
            "conv_dw_12_bn (BatchNormaliz (None, 12, 12, 384)       1536      \n",
            "_________________________________________________________________\n",
            "conv_dw_12_relu (ReLU)       (None, 12, 12, 384)       0         \n",
            "_________________________________________________________________\n",
            "conv_pw_12 (Conv2D)          (None, 12, 12, 768)       294912    \n",
            "_________________________________________________________________\n",
            "conv_pw_12_bn (BatchNormaliz (None, 12, 12, 768)       3072      \n",
            "_________________________________________________________________\n",
            "conv_pw_12_relu (ReLU)       (None, 12, 12, 768)       0         \n",
            "_________________________________________________________________\n",
            "conv_dw_13 (DepthwiseConv2D) (None, 12, 12, 768)       6912      \n",
            "_________________________________________________________________\n",
            "conv_dw_13_bn (BatchNormaliz (None, 12, 12, 768)       3072      \n",
            "_________________________________________________________________\n",
            "conv_dw_13_relu (ReLU)       (None, 12, 12, 768)       0         \n",
            "_________________________________________________________________\n",
            "conv_pw_13 (Conv2D)          (None, 12, 12, 768)       589824    \n",
            "_________________________________________________________________\n",
            "conv_pw_13_bn (BatchNormaliz (None, 12, 12, 768)       3072      \n",
            "_________________________________________________________________\n",
            "conv_pw_13_relu (ReLU)       (None, 12, 12, 768)       0         \n",
            "_________________________________________________________________\n",
            "global_average_pooling2d (Gl (None, 768)               0         \n",
            "_________________________________________________________________\n",
            "dense (Dense)                (None, 1024)              787456    \n",
            "_________________________________________________________________\n",
            "dense_1 (Dense)              (None, 1024)              1049600   \n",
            "_________________________________________________________________\n",
            "dense_2 (Dense)              (None, 512)               524800    \n",
            "_________________________________________________________________\n",
            "dense_3 (Dense)              (None, 2)                 1026      \n",
            "=================================================================\n",
            "Total params: 4,195,858\n",
            "Trainable params: 2,362,882\n",
            "Non-trainable params: 1,832,976\n",
            "_________________________________________________________________\n"
          ],
          "name": "stdout"
        }
      ]
    },
    {
      "cell_type": "code",
      "metadata": {
        "id": "ie0b7_hgU84y",
        "colab_type": "code",
        "colab": {}
      },
      "source": [
        "# base_model=MobileNet(weights='imagenet',include_top=False) #imports the mobilenet model and discards the last 1000 neuron layer.\n",
        "\n",
        "# x=base_model.output\n",
        "# x=GlobalAveragePooling2D()(x)\n",
        "# x=Dense(1024,activation='relu')(x) #we add dense layers so that the model can learn more complex functions and classify for better results.\n",
        "# x=Dense(1024,activation='relu')(x) #dense layer 2\n",
        "# x=Dense(512,activation='relu')(x) #dense layer 3\n",
        "# preds=Dense(2,activation='softmax')(x) #final layer with softmax activation"
      ],
      "execution_count": 8,
      "outputs": []
    },
    {
      "cell_type": "code",
      "metadata": {
        "id": "r-MF9Wc_uedo",
        "colab_type": "code",
        "colab": {}
      },
      "source": [
        "train_path =DATA_DIR + \"train\"\n",
        "test_path = DATA_DIR + \"test\""
      ],
      "execution_count": 9,
      "outputs": []
    },
    {
      "cell_type": "code",
      "metadata": {
        "id": "iy1aiHEFUv9v",
        "colab_type": "code",
        "colab": {
          "base_uri": "https://localhost:8080/",
          "height": 33
        },
        "outputId": "af485bd3-3702-4650-a312-a8df37920890"
      },
      "source": [
        "train_datagen=ImageDataGenerator(preprocessing_function=preprocess_input) #included in our dependencies\n",
        "\n",
        "train_generator=train_datagen.flow_from_directory(train_path,\n",
        "                                                  target_size=(400,400),\n",
        "                                                  color_mode='rgb',\n",
        "                                                  batch_size=32,\n",
        "                                                  class_mode='categorical', shuffle=True)"
      ],
      "execution_count": 10,
      "outputs": [
        {
          "output_type": "stream",
          "text": [
            "Found 5216 images belonging to 2 classes.\n"
          ],
          "name": "stdout"
        }
      ]
    },
    {
      "cell_type": "code",
      "metadata": {
        "id": "kuoZzSNEvS5K",
        "colab_type": "code",
        "colab": {
          "base_uri": "https://localhost:8080/",
          "height": 33
        },
        "outputId": "34fb31b5-5d90-4826-ea6a-47550131b93a"
      },
      "source": [
        "valid_datagen=ImageDataGenerator(preprocessing_function=preprocess_input)\n",
        "valid_generator=valid_datagen.flow_from_directory(test_path,\n",
        "                                                  target_size=(400,400),\n",
        "                                                  color_mode='rgb',\n",
        "                                                  batch_size=32,\n",
        "                                                  class_mode='categorical', shuffle=False)"
      ],
      "execution_count": 11,
      "outputs": [
        {
          "output_type": "stream",
          "text": [
            "Found 624 images belonging to 2 classes.\n"
          ],
          "name": "stdout"
        }
      ]
    },
    {
      "cell_type": "code",
      "metadata": {
        "id": "QV001XROvost",
        "colab_type": "code",
        "colab": {
          "base_uri": "https://localhost:8080/",
          "height": 150
        },
        "outputId": "88a36389-bc3e-4e21-854b-0928d39311ac"
      },
      "source": [
        "import pandas as pd\n",
        "import math\n",
        "\n",
        "df = pd.DataFrame({'data':train_generator.classes})\n",
        "no_pne = int(df[df.data==train_generator.class_indices['NORMAL']].count())\n",
        "yes_pne = int(df[df.data==train_generator.class_indices['PNEUMONIA']].count())\n",
        "\n",
        "imb_rat = round(yes_pne / no_pne, 2)\n",
        "\n",
        "no_weight = imb_rat\n",
        "yes_weight = 1.0\n",
        "\n",
        "cweights = {\n",
        " train_generator.class_indices['NORMAL']:no_weight,\n",
        " train_generator.class_indices['PNEUMONIA']:yes_weight\n",
        "}\n",
        "\n",
        "text = \"Normal:{:.0f}\\nPneumonia:{:.0f}\\nImbalance Ratio: {:.2f}\\n\".format(no_pne, yes_pne, imb_rat)\n",
        "print(text)\n",
        "text = \"Using class_weights as:\\nNormal:{:.2f}\\nPneumonia:{:.2f}\\n\".format(no_weight, yes_weight)\n",
        "print(text)"
      ],
      "execution_count": 12,
      "outputs": [
        {
          "output_type": "stream",
          "text": [
            "Normal:1341\n",
            "Pneumonia:3875\n",
            "Imbalance Ratio: 2.89\n",
            "\n",
            "Using class_weights as:\n",
            "Normal:2.89\n",
            "Pneumonia:1.00\n",
            "\n"
          ],
          "name": "stdout"
        }
      ]
    },
    {
      "cell_type": "code",
      "metadata": {
        "id": "L1JUG2q-w0hL",
        "colab_type": "code",
        "colab": {}
      },
      "source": [
        "batch_size = 32\n",
        "epochs =10\n",
        "\n",
        "\n",
        "from tensorflow.keras.models import load_model\n",
        "checkpoint = ModelCheckpoint(filepath=dir_callbacks + 'best_weights_mobile_net.h5', save_best_only=True)\n",
        "\n",
        "\n",
        "lr_reduce = ReduceLROnPlateau(monitor='val_loss', factor=0.3, patience=2, verbose=2, mode='max')\n",
        "early_stop = EarlyStopping(monitor='val_loss', min_delta=0.1, patience=1, mode='min')\n",
        "\n",
        "if (os.path.exists(dir_callbacks + 'best_weights_mobile_net.h5')):\n",
        "      Model_MobileNet= tensorflow.keras.models.load_model(dir_callbacks + 'best_weights_mobile_net.h5')"
      ],
      "execution_count": 13,
      "outputs": []
    },
    {
      "cell_type": "code",
      "metadata": {
        "id": "LQ8YF0BiwCln",
        "colab_type": "code",
        "colab": {
          "base_uri": "https://localhost:8080/",
          "height": 421
        },
        "outputId": "06c57f63-4f71-4f01-ca98-1dd554400668"
      },
      "source": [
        "hist = Model_MobileNet.fit_generator(\n",
        "           train_generator, steps_per_epoch=train_generator.samples // batch_size, \n",
        "           epochs=epochs, validation_data=valid_generator, \n",
        "           validation_steps=valid_generator.samples // batch_size,\n",
        "           callbacks=[checkpoint, lr_reduce],\n",
        "           class_weight=cweights)"
      ],
      "execution_count": 14,
      "outputs": [
        {
          "output_type": "stream",
          "text": [
            "WARNING:tensorflow:From <ipython-input-14-97dae9715bcb>:6: Model.fit_generator (from tensorflow.python.keras.engine.training) is deprecated and will be removed in a future version.\n",
            "Instructions for updating:\n",
            "Please use Model.fit, which supports generators.\n",
            "Epoch 1/10\n",
            "163/163 [==============================] - 2459s 15s/step - loss: 0.2659 - accuracy: 0.9270 - val_loss: 0.4520 - val_accuracy: 0.8158 - lr: 1.0000e-04\n",
            "Epoch 2/10\n",
            "163/163 [==============================] - 84s 518ms/step - loss: 0.1282 - accuracy: 0.9661 - val_loss: 0.4760 - val_accuracy: 0.8372 - lr: 1.0000e-04\n",
            "Epoch 3/10\n",
            "163/163 [==============================] - 84s 517ms/step - loss: 0.0904 - accuracy: 0.9760 - val_loss: 0.5259 - val_accuracy: 0.8388 - lr: 1.0000e-04\n",
            "Epoch 4/10\n",
            "163/163 [==============================] - 84s 513ms/step - loss: 0.0766 - accuracy: 0.9804 - val_loss: 0.5597 - val_accuracy: 0.8240 - lr: 1.0000e-04\n",
            "Epoch 5/10\n",
            "163/163 [==============================] - 84s 517ms/step - loss: 0.0719 - accuracy: 0.9781 - val_loss: 0.8479 - val_accuracy: 0.7812 - lr: 1.0000e-04\n",
            "Epoch 6/10\n",
            "163/163 [==============================] - 84s 514ms/step - loss: 0.0476 - accuracy: 0.9866 - val_loss: 0.5965 - val_accuracy: 0.8503 - lr: 1.0000e-04\n",
            "Epoch 7/10\n",
            "163/163 [==============================] - 84s 513ms/step - loss: 0.0349 - accuracy: 0.9914 - val_loss: 1.0035 - val_accuracy: 0.7845 - lr: 1.0000e-04\n",
            "Epoch 8/10\n",
            "163/163 [==============================] - 84s 518ms/step - loss: 0.0544 - accuracy: 0.9847 - val_loss: 1.6696 - val_accuracy: 0.7122 - lr: 1.0000e-04\n",
            "Epoch 9/10\n",
            "163/163 [==============================] - 84s 515ms/step - loss: 0.0546 - accuracy: 0.9852 - val_loss: 0.9817 - val_accuracy: 0.7845 - lr: 1.0000e-04\n",
            "Epoch 10/10\n",
            "163/163 [==============================] - 84s 518ms/step - loss: 0.0475 - accuracy: 0.9873 - val_loss: 1.8084 - val_accuracy: 0.7056 - lr: 1.0000e-04\n"
          ],
          "name": "stdout"
        }
      ]
    },
    {
      "cell_type": "code",
      "metadata": {
        "id": "bEaCboPwIHhY",
        "colab_type": "code",
        "colab": {}
      },
      "source": [
        ""
      ],
      "execution_count": 14,
      "outputs": []
    },
    {
      "cell_type": "code",
      "metadata": {
        "id": "NVwionuw_rWy",
        "colab_type": "code",
        "colab": {
          "base_uri": "https://localhost:8080/",
          "height": 418
        },
        "outputId": "f45faf94-2a60-4947-9b7b-4334db58fee1"
      },
      "source": [
        "hist = Model_MobileNet.fit_generator(\n",
        "           train_generator, steps_per_epoch=train_generator.samples // batch_size, \n",
        "           epochs=epochs, validation_data=valid_generator, \n",
        "           validation_steps=valid_generator.samples // batch_size,\n",
        "           callbacks=[checkpoint, lr_reduce],\n",
        "           class_weight=cweights)"
      ],
      "execution_count": 15,
      "outputs": [
        {
          "output_type": "stream",
          "text": [
            "Epoch 1/10\n",
            "163/163 [==============================] - 84s 516ms/step - loss: 0.0420 - accuracy: 0.9883 - val_loss: 0.6888 - val_accuracy: 0.8470 - lr: 1.0000e-04\n",
            "Epoch 2/10\n",
            "163/163 [==============================] - 85s 521ms/step - loss: 0.0205 - accuracy: 0.9937 - val_loss: 1.6260 - val_accuracy: 0.7500 - lr: 1.0000e-04\n",
            "Epoch 3/10\n",
            "163/163 [==============================] - 85s 519ms/step - loss: 0.0261 - accuracy: 0.9921 - val_loss: 0.6793 - val_accuracy: 0.8651 - lr: 1.0000e-04\n",
            "Epoch 4/10\n",
            "163/163 [==============================] - ETA: 0s - loss: 0.0174 - accuracy: 0.9954\n",
            "Epoch 00004: ReduceLROnPlateau reducing learning rate to 2.9999999242136255e-05.\n",
            "163/163 [==============================] - 84s 517ms/step - loss: 0.0174 - accuracy: 0.9954 - val_loss: 1.4827 - val_accuracy: 0.7796 - lr: 1.0000e-04\n",
            "Epoch 5/10\n",
            "163/163 [==============================] - 84s 514ms/step - loss: 0.0060 - accuracy: 0.9987 - val_loss: 1.4331 - val_accuracy: 0.7845 - lr: 3.0000e-05\n",
            "Epoch 6/10\n",
            "163/163 [==============================] - 84s 517ms/step - loss: 0.0046 - accuracy: 0.9992 - val_loss: 1.6871 - val_accuracy: 0.7747 - lr: 3.0000e-05\n",
            "Epoch 7/10\n",
            "163/163 [==============================] - 84s 516ms/step - loss: 0.0040 - accuracy: 0.9992 - val_loss: 1.4058 - val_accuracy: 0.7944 - lr: 3.0000e-05\n",
            "Epoch 8/10\n",
            "163/163 [==============================] - ETA: 0s - loss: 0.0025 - accuracy: 0.9998\n",
            "Epoch 00008: ReduceLROnPlateau reducing learning rate to 8.999999772640877e-06.\n",
            "163/163 [==============================] - 84s 517ms/step - loss: 0.0025 - accuracy: 0.9998 - val_loss: 1.4291 - val_accuracy: 0.8010 - lr: 3.0000e-05\n",
            "Epoch 9/10\n",
            "163/163 [==============================] - 85s 519ms/step - loss: 0.0021 - accuracy: 0.9996 - val_loss: 1.5629 - val_accuracy: 0.7878 - lr: 9.0000e-06\n",
            "Epoch 10/10\n",
            "163/163 [==============================] - 83s 511ms/step - loss: 0.0017 - accuracy: 0.9998 - val_loss: 1.7098 - val_accuracy: 0.7796 - lr: 9.0000e-06\n"
          ],
          "name": "stdout"
        }
      ]
    },
    {
      "cell_type": "code",
      "metadata": {
        "id": "MSj-_45UybOY",
        "colab_type": "code",
        "colab": {
          "base_uri": "https://localhost:8080/",
          "height": 241
        },
        "outputId": "0b203643-de0a-4519-91d9-645fc9a824a6"
      },
      "source": [
        "fig, ax = plt.subplots(1, 2, figsize=(10, 3))\n",
        "ax = ax.ravel()\n",
        "for i, met in enumerate(['accuracy', 'loss']):\n",
        "    ax[i].plot(hist.history[met])\n",
        "    ax[i].plot(hist.history['val_' + met])\n",
        "    ax[i].set_title('Model {}'.format(met))\n",
        "    ax[i].set_xlabel('epochs')\n",
        "    ax[i].set_ylabel(met)\n",
        "    ax[i].legend(['train', 'val'])"
      ],
      "execution_count": 33,
      "outputs": [
        {
          "output_type": "display_data",
          "data": {
            "image/png": "[encoded data removed]",
            "text/plain": [
              "<Figure size 720x216 with 2 Axes>"
            ]
          },
          "metadata": {
            "tags": [],
            "needs_background": "light"
          }
        }
      ]
    },
    {
      "cell_type": "code",
      "metadata": {
        "id": "rf0U-OaKDc1-",
        "colab_type": "code",
        "colab": {
          "base_uri": "https://localhost:8080/",
          "height": 345
        },
        "outputId": "d805eebf-a60d-4652-b07b-c194b3752294"
      },
      "source": [
        "pd.DataFrame(hist.history)"
      ],
      "execution_count": 32,
      "outputs": [
        {
          "output_type": "execute_result",
          "data": {
            "text/html": [
              "<div>\n",
              "<style scoped>\n",
              "    .dataframe tbody tr th:only-of-type {\n",
              "        vertical-align: middle;\n",
              "    }\n",
              "\n",
              "    .dataframe tbody tr th {\n",
              "        vertical-align: top;\n",
              "    }\n",
              "\n",
              "    .dataframe thead th {\n",
              "        text-align: right;\n",
              "    }\n",
              "</style>\n",
              "<table border=\"1\" class=\"dataframe\">\n",
              "  <thead>\n",
              "    <tr style=\"text-align: right;\">\n",
              "      <th></th>\n",
              "      <th>loss</th>\n",
              "      <th>accuracy</th>\n",
              "      <th>val_loss</th>\n",
              "      <th>val_accuracy</th>\n",
              "      <th>lr</th>\n",
              "    </tr>\n",
              "  </thead>\n",
              "  <tbody>\n",
              "    <tr>\n",
              "      <th>0</th>\n",
              "      <td>0.042035</td>\n",
              "      <td>0.988305</td>\n",
              "      <td>0.688823</td>\n",
              "      <td>0.847039</td>\n",
              "      <td>0.000100</td>\n",
              "    </tr>\n",
              "    <tr>\n",
              "      <th>1</th>\n",
              "      <td>0.020489</td>\n",
              "      <td>0.993673</td>\n",
              "      <td>1.625979</td>\n",
              "      <td>0.750000</td>\n",
              "      <td>0.000100</td>\n",
              "    </tr>\n",
              "    <tr>\n",
              "      <th>2</th>\n",
              "      <td>0.026135</td>\n",
              "      <td>0.992140</td>\n",
              "      <td>0.679290</td>\n",
              "      <td>0.865132</td>\n",
              "      <td>0.000100</td>\n",
              "    </tr>\n",
              "    <tr>\n",
              "      <th>3</th>\n",
              "      <td>0.017421</td>\n",
              "      <td>0.995399</td>\n",
              "      <td>1.482741</td>\n",
              "      <td>0.779605</td>\n",
              "      <td>0.000100</td>\n",
              "    </tr>\n",
              "    <tr>\n",
              "      <th>4</th>\n",
              "      <td>0.006019</td>\n",
              "      <td>0.998658</td>\n",
              "      <td>1.433138</td>\n",
              "      <td>0.784539</td>\n",
              "      <td>0.000030</td>\n",
              "    </tr>\n",
              "    <tr>\n",
              "      <th>5</th>\n",
              "      <td>0.004555</td>\n",
              "      <td>0.999233</td>\n",
              "      <td>1.687139</td>\n",
              "      <td>0.774671</td>\n",
              "      <td>0.000030</td>\n",
              "    </tr>\n",
              "    <tr>\n",
              "      <th>6</th>\n",
              "      <td>0.004005</td>\n",
              "      <td>0.999233</td>\n",
              "      <td>1.405759</td>\n",
              "      <td>0.794408</td>\n",
              "      <td>0.000030</td>\n",
              "    </tr>\n",
              "    <tr>\n",
              "      <th>7</th>\n",
              "      <td>0.002461</td>\n",
              "      <td>0.999808</td>\n",
              "      <td>1.429083</td>\n",
              "      <td>0.800987</td>\n",
              "      <td>0.000030</td>\n",
              "    </tr>\n",
              "    <tr>\n",
              "      <th>8</th>\n",
              "      <td>0.002063</td>\n",
              "      <td>0.999617</td>\n",
              "      <td>1.562912</td>\n",
              "      <td>0.787829</td>\n",
              "      <td>0.000009</td>\n",
              "    </tr>\n",
              "    <tr>\n",
              "      <th>9</th>\n",
              "      <td>0.001671</td>\n",
              "      <td>0.999808</td>\n",
              "      <td>1.709826</td>\n",
              "      <td>0.779605</td>\n",
              "      <td>0.000009</td>\n",
              "    </tr>\n",
              "  </tbody>\n",
              "</table>\n",
              "</div>"
            ],
            "text/plain": [
              "       loss  accuracy  val_loss  val_accuracy        lr\n",
              "0  0.042035  0.988305  0.688823      0.847039  0.000100\n",
              "1  0.020489  0.993673  1.625979      0.750000  0.000100\n",
              "2  0.026135  0.992140  0.679290      0.865132  0.000100\n",
              "3  0.017421  0.995399  1.482741      0.779605  0.000100\n",
              "4  0.006019  0.998658  1.433138      0.784539  0.000030\n",
              "5  0.004555  0.999233  1.687139      0.774671  0.000030\n",
              "6  0.004005  0.999233  1.405759      0.794408  0.000030\n",
              "7  0.002461  0.999808  1.429083      0.800987  0.000030\n",
              "8  0.002063  0.999617  1.562912      0.787829  0.000009\n",
              "9  0.001671  0.999808  1.709826      0.779605  0.000009"
            ]
          },
          "metadata": {
            "tags": []
          },
          "execution_count": 32
        }
      ]
    },
    {
      "cell_type": "code",
      "metadata": {
        "id": "1QbD4qPWybW0",
        "colab_type": "code",
        "colab": {
          "base_uri": "https://localhost:8080/",
          "height": 33
        },
        "outputId": "dcdf0dba-f301-4f3c-c65e-da706624476c"
      },
      "source": [
        "#test_gen = ImageDataGenerator(rescale=1./255).flow_from_directory(test_path , target_size = (224,224) , classes =['NORMAL','PNEUMONIA'] , batch_size=624)\n",
        "valid_generator=valid_datagen.flow_from_directory(test_path,\n",
        "                                                  target_size=(224,224),\n",
        "                                                  color_mode='rgb',\n",
        "                                                  batch_size=624,\n",
        "                                                  class_mode='categorical', shuffle=False)\n",
        "X_test , y_test = next(valid_generator)"
      ],
      "execution_count": 19,
      "outputs": [
        {
          "output_type": "stream",
          "text": [
            "Found 624 images belonging to 2 classes.\n"
          ],
          "name": "stdout"
        }
      ]
    },
    {
      "cell_type": "code",
      "metadata": {
        "id": "X7wiW_68-M56",
        "colab_type": "code",
        "colab": {}
      },
      "source": [
        "Model_MobileNet= tensorflow.keras.models.load_model(dir_callbacks + 'best_weights_mobile_net.h5')"
      ],
      "execution_count": 20,
      "outputs": []
    },
    {
      "cell_type": "code",
      "metadata": {
        "id": "10i1sUAQybcr",
        "colab_type": "code",
        "colab": {
          "base_uri": "https://localhost:8080/",
          "height": 70
        },
        "outputId": "99094684-2c95-4b68-c987-36fbc2261e76"
      },
      "source": [
        "y_pred = Model_MobileNet.predict(X_test, batch_size=624 ,verbose=1)\n",
        "y_predicted = np.argmax(y_pred, axis=1)"
      ],
      "execution_count": 21,
      "outputs": [
        {
          "output_type": "stream",
          "text": [
            "WARNING:tensorflow:Model was constructed with shape (None, 400, 400, 3) for input Tensor(\"input_1_1:0\", shape=(None, 400, 400, 3), dtype=float32), but it was called on an input with incompatible shape (624, 224, 224, 3).\n",
            "1/1 [==============================] - 0s 1ms/step\n"
          ],
          "name": "stdout"
        }
      ]
    },
    {
      "cell_type": "code",
      "metadata": {
        "id": "IQNC197WybbV",
        "colab_type": "code",
        "colab": {
          "base_uri": "https://localhost:8080/",
          "height": 67
        },
        "outputId": "cd7cfd05-899e-49cd-829a-6a19f66dcae4"
      },
      "source": [
        "print('Confusion Matrix')\n",
        "print(confusion_matrix(np.argmax(y_test, axis=1), y_predicted))"
      ],
      "execution_count": 22,
      "outputs": [
        {
          "output_type": "stream",
          "text": [
            "Confusion Matrix\n",
            "[[127 107]\n",
            " [ 15 375]]\n"
          ],
          "name": "stdout"
        }
      ]
    },
    {
      "cell_type": "code",
      "metadata": {
        "id": "115-qTYEybVP",
        "colab_type": "code",
        "colab": {
          "base_uri": "https://localhost:8080/",
          "height": 184
        },
        "outputId": "c33987b0-3a3c-4c51-f2a6-cc7a36583b59"
      },
      "source": [
        "print('Classification Report')\n",
        "target_names = ['NORMAL', 'PNEUMONIA']\n",
        "print(classification_report(np.argmax(y_test, axis=1), y_predicted, target_names=target_names))"
      ],
      "execution_count": 23,
      "outputs": [
        {
          "output_type": "stream",
          "text": [
            "Classification Report\n",
            "              precision    recall  f1-score   support\n",
            "\n",
            "      NORMAL       0.89      0.54      0.68       234\n",
            "   PNEUMONIA       0.78      0.96      0.86       390\n",
            "\n",
            "    accuracy                           0.80       624\n",
            "   macro avg       0.84      0.75      0.77       624\n",
            "weighted avg       0.82      0.80      0.79       624\n",
            "\n"
          ],
          "name": "stdout"
        }
      ]
    },
    {
      "cell_type": "code",
      "metadata": {
        "id": "BIPjqsnhybLp",
        "colab_type": "code",
        "colab": {}
      },
      "source": [
        "acc = accuracy_score(np.argmax(y_test, axis=1), np.round(y_predicted))*100\n",
        "cm = confusion_matrix(np.argmax(y_test, axis=1), np.round(y_predicted))\n",
        "tn, fp, fn, tp = cm.ravel()"
      ],
      "execution_count": 24,
      "outputs": []
    },
    {
      "cell_type": "code",
      "metadata": {
        "id": "oyjUlVc2ynWU",
        "colab_type": "code",
        "colab": {
          "base_uri": "https://localhost:8080/",
          "height": 84
        },
        "outputId": "56f8c54e-175e-425a-9d93-912bd87d288a"
      },
      "source": [
        "precision = tp/(tp+fp)*100\n",
        "recall = tp/(tp+fn)*100\n",
        "print('Accuracy: {}%'.format(acc))\n",
        "print('Precision: {}%'.format(precision))\n",
        "print('Recall: {}%'.format(recall))\n",
        "print('F1-score: {}'.format(2*precision*recall/(precision+recall)))"
      ],
      "execution_count": 25,
      "outputs": [
        {
          "output_type": "stream",
          "text": [
            "Accuracy: 80.44871794871796%\n",
            "Precision: 77.80082987551867%\n",
            "Recall: 96.15384615384616%\n",
            "F1-score: 86.0091743119266\n"
          ],
          "name": "stdout"
        }
      ]
    },
    {
      "cell_type": "code",
      "metadata": {
        "id": "LqzXE6DeynTu",
        "colab_type": "code",
        "colab": {}
      },
      "source": [
        "def plot_confusion_matrix(cm, classes,\n",
        "                          normalize=False,\n",
        "                          title='Confusion matrix',\n",
        "                          cmap=plt.cm.Blues):\n",
        "    \"\"\"\n",
        "    This function prints and plots the confusion matrix.\n",
        "    Normalization can be applied by setting `normalize=True`.\n",
        "    \"\"\"\n",
        "    plt.figure(figsize = (6,6))\n",
        "    plt.imshow(cm, interpolation='nearest', cmap=cmap)\n",
        "    plt.title(title)\n",
        "    plt.colorbar()\n",
        "    tick_marks = np.arange(len(classes))\n",
        "    plt.xticks(tick_marks, classes, rotation=90)\n",
        "    plt.yticks(tick_marks, classes)\n",
        "    if normalize:\n",
        "        cm = cm.astype('float') / cm.sum(axis=1)[:, np.newaxis]\n",
        "\n",
        "    thresh = cm.max() / 2.\n",
        "    for i, j in itertools.product(range(cm.shape[0]), range(cm.shape[1])):\n",
        "        plt.text(j, i, cm[i, j],\n",
        "                 horizontalalignment=\"center\",\n",
        "                 color=\"white\" if cm[i, j] > thresh else \"black\")\n",
        "    plt.tight_layout()\n",
        "    plt.ylabel('True label')\n",
        "    plt.xlabel('Predicted label')"
      ],
      "execution_count": 26,
      "outputs": []
    },
    {
      "cell_type": "code",
      "metadata": {
        "id": "dZ7MoDYRynSM",
        "colab_type": "code",
        "colab": {
          "base_uri": "https://localhost:8080/",
          "height": 436
        },
        "outputId": "e04d1e0a-36ed-4167-9a2c-aaca13cecf8b"
      },
      "source": [
        "plot_confusion_matrix(confusion_matrix(np.argmax(y_test, axis=1), y_predicted), classes = ['NORMAL','PNEUMONIA'])"
      ],
      "execution_count": 27,
      "outputs": [
        {
          "output_type": "display_data",
          "data": {
            "image/png": "[encoded data removed]",
            "text/plain": [
              "<Figure size 432x432 with 2 Axes>"
            ]
          },
          "metadata": {
            "tags": [],
            "needs_background": "light"
          }
        }
      ]
    },
    {
      "cell_type": "code",
      "metadata": {
        "id": "Uy8NRJwsynO8",
        "colab_type": "code",
        "colab": {}
      },
      "source": [
        "from sklearn.metrics import roc_curve, roc_auc_score\n",
        "def Plot_Roc_Curve():    \n",
        "    fpr, tpr, _ = roc_curve(np.argmax(y_test, axis=1), y_predicted)\n",
        "    fig, ax1 = plt.subplots(1,1, figsize = (2.5, 2.5), dpi = 200)\n",
        "    ax1.plot(fpr, tpr, 'b.-', label = 'VGG-Model (AUC:%2.2f)' % roc_auc_score(np.argmax(y_test, axis=1), y_predicted))\n",
        "    ax1.plot(fpr, fpr, 'k-', label = 'Random Guessing')\n",
        "    ax1.legend(loc = 4)\n",
        "    ax1.set_xlabel('False Positive Rate')\n",
        "    ax1.set_ylabel('True Positive Rate');"
      ],
      "execution_count": 28,
      "outputs": []
    },
    {
      "cell_type": "code",
      "metadata": {
        "id": "6KUBqXyNynMS",
        "colab_type": "code",
        "colab": {
          "base_uri": "https://localhost:8080/",
          "height": 521
        },
        "outputId": "b31201bd-389a-4e72-9733-837724e8ad72"
      },
      "source": [
        "Plot_Roc_Curve()"
      ],
      "execution_count": 29,
      "outputs": [
        {
          "output_type": "display_data",
          "data": {
            "image/png": "[encoded data removed]",
            "text/plain": [
              "<Figure size 500x500 with 1 Axes>"
            ]
          },
          "metadata": {
            "tags": [],
            "needs_background": "light"
          }
        }
      ]
    },
    {
      "cell_type": "code",
      "metadata": {
        "id": "-vaG77zrWIj6",
        "colab_type": "code",
        "colab": {
          "base_uri": "https://localhost:8080/",
          "height": 33
        },
        "outputId": "7e8d18a7-2e94-469d-89a2-ec3733366559"
      },
      "source": [
        "from keras.models import load_model\n",
        "new_model = tensorflow.keras.models.load_model(dir_callbacks + 'best_weights_mobile_net.h5')\n",
        "\n",
        "def get_rez(pic):\n",
        "  img = image.load_img(pic, target_size=(224,224))\n",
        "  x = image.img_to_array(img)\n",
        "  x = np.expand_dims(x, axis=0)\n",
        "  x = preprocess_input(x)\n",
        "  p_good,p_ill = np.around(new_model.predict(x), decimals=2)[0]\n",
        "  return{'p_good':p_good,'p_ill':p_ill}"
      ],
      "execution_count": 30,
      "outputs": [
        {
          "output_type": "stream",
          "text": [
            "Using TensorFlow backend.\n"
          ],
          "name": "stderr"
        }
      ]
    },
    {
      "cell_type": "code",
      "metadata": {
        "id": "p5w1A1Y6X2EJ",
        "colab_type": "code",
        "colab": {
          "base_uri": "https://localhost:8080/",
          "height": 87
        },
        "outputId": "35c26db2-d771-4594-fc32-f753f5c024f0"
      },
      "source": [
        "ill_path =  train_path + \"/PNEUMONIA/\" \n",
        "good_path = train_path + \"/NORMAL/\" \n",
        "\n",
        "ill_pic = ill_path + os.listdir(ill_path)[0]\n",
        "good_pic = good_path + os.listdir(good_path)[0]\n",
        "\n",
        "print(get_rez(ill_pic))\n",
        "print(get_rez(good_pic))"
      ],
      "execution_count": 31,
      "outputs": [
        {
          "output_type": "stream",
          "text": [
            "WARNING:tensorflow:Model was constructed with shape (None, 400, 400, 3) for input Tensor(\"input_1_2:0\", shape=(None, 400, 400, 3), dtype=float32), but it was called on an input with incompatible shape (None, 224, 224, 3).\n",
            "{'p_good': 0.01, 'p_ill': 0.99}\n",
            "{'p_good': 0.88, 'p_ill': 0.12}\n"
          ],
          "name": "stdout"
        }
      ]
    },
    {
      "cell_type": "code",
      "metadata": {
        "id": "Zy6k1K1cXati",
        "colab_type": "code",
        "colab": {}
      },
      "source": [
        ""
      ],
      "execution_count": 31,
      "outputs": []
    }
  ]
}